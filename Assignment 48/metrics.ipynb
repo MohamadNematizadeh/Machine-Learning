{
 "cells": [
  {
   "cell_type": "code",
   "execution_count": 1,
   "metadata": {},
   "outputs": [],
   "source": [
    "from sklearn.metrics import precision_score, recall_score"
   ]
  },
  {
   "cell_type": "code",
   "execution_count": 2,
   "metadata": {},
   "outputs": [],
   "source": [
    "def precision(y_true, y_pred):\n",
    "    true_positives = sum(1 for yt, yp in zip(y_true, y_pred) if yt == 1 and yp == 1)\n",
    "    false_positives = sum(1 for yt, yp in zip(y_true, y_pred) if yt == 0 and yp == 1)\n",
    "    \n",
    "    if true_positives + false_positives == 0:\n",
    "        return 0.0\n",
    "    \n",
    "    precision = true_positives / (true_positives + false_positives)\n",
    "    return precision"
   ]
  },
  {
   "cell_type": "code",
   "execution_count": 3,
   "metadata": {},
   "outputs": [],
   "source": [
    "def recall(y_true, y_pred):\n",
    "    true_positives = sum(1 for yt, yp in zip(y_true, y_pred) if yt == 1 and yp == 1)\n",
    "    false_negatives = sum(1 for yt, yp in zip(y_true, y_pred) if yt == 1 and yp == 0)\n",
    "    \n",
    "    if true_positives + false_negatives == 0:\n",
    "        return 0.0\n",
    "    \n",
    "    recall = true_positives / (true_positives + false_negatives)\n",
    "    return recall"
   ]
  },
  {
   "cell_type": "code",
   "execution_count": 4,
   "metadata": {},
   "outputs": [],
   "source": [
    "y_true = [1, 0, 1, 1, 0, 1, 0, 0, 1, 1]\n",
    "y_pred = [1, 0, 0, 1, 1, 1, 0, 1, 1, 0]"
   ]
  },
  {
   "cell_type": "code",
   "execution_count": 5,
   "metadata": {},
   "outputs": [
    {
     "name": "stdout",
     "output_type": "stream",
     "text": [
      "Custom Precision: 0.6666666666666666\n",
      "Scikit-Learn Precision: 0.6666666666666666\n",
      "Custom Recall: 0.6666666666666666\n",
      "Scikit-Learn Recall: 0.6666666666666666\n"
     ]
    }
   ],
   "source": [
    "precision_custom = precision(y_true, y_pred)\n",
    "recall_custom = recall(y_true, y_pred)\n",
    "\n",
    "precision_sklearn = precision_score(y_true, y_pred)\n",
    "recall_sklearn = recall_score(y_true, y_pred)\n",
    "\n",
    "print(\"Custom Precision:\", precision_custom)\n",
    "print(\"Scikit-Learn Precision:\", precision_sklearn)\n",
    "print(\"Custom Recall:\", recall_custom)\n",
    "print(\"Scikit-Learn Recall:\", recall_sklearn)\n"
   ]
  }
 ],
 "metadata": {
  "kernelspec": {
   "display_name": "Python 3",
   "language": "python",
   "name": "python3"
  },
  "language_info": {
   "codemirror_mode": {
    "name": "ipython",
    "version": 3
   },
   "file_extension": ".py",
   "mimetype": "text/x-python",
   "name": "python",
   "nbconvert_exporter": "python",
   "pygments_lexer": "ipython3",
   "version": "3.10.8"
  },
  "orig_nbformat": 4
 },
 "nbformat": 4,
 "nbformat_minor": 2
}
