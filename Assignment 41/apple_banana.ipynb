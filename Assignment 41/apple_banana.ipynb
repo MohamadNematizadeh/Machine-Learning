{
 "cells": [
  {
   "cell_type": "code",
   "execution_count": 96,
   "metadata": {},
   "outputs": [],
   "source": [
    "import numpy as np\n",
    "import matplotlib.pyplot as plt"
   ]
  },
  {
   "cell_type": "code",
   "execution_count": 97,
   "metadata": {},
   "outputs": [],
   "source": [
    "apple_width = np.random.normal(6,1,100)\n",
    "apple_lengt = np.random.normal(6,1,100)\n",
    "banana_width = np.random.normal(4,1,100)\n",
    "banana_lengt = np.random.normal(8,1,100)"
   ]
  },
  {
   "cell_type": "code",
   "execution_count": 98,
   "metadata": {},
   "outputs": [
    {
     "data": {
      "image/png": "[encoded data removed]",
      "text/plain": [
       "<Figure size 640x480 with 1 Axes>"
      ]
     },
     "metadata": {},
     "output_type": "display_data"
    }
   ],
   "source": [
    "plt.scatter(apple_width,apple_lengt,c=\"red\",marker=\".\")\n",
    "plt.scatter(banana_width,banana_lengt,c=\"orange\",marker=\".\")\n",
    "plt.show()"
   ]
  },
  {
   "cell_type": "markdown",
   "metadata": {},
   "source": [
    "KNN"
   ]
  },
  {
   "cell_type": "code",
   "execution_count": 99,
   "metadata": {},
   "outputs": [],
   "source": [
    "width = np.concatenate((apple_width,banana_width))\n",
    "length = np.concatenate((apple_lengt,banana_lengt))\n",
    "X_train = np.array([width,length]).T\n"
   ]
  },
  {
   "cell_type": "code",
   "execution_count": 100,
   "metadata": {},
   "outputs": [
    {
     "data": {
      "text/plain": [
       "array([0, 0, 0, 0, 0, 0, 0, 0, 0, 0, 0, 0, 0, 0, 0, 0, 0, 0, 0, 0, 0, 0,\n",
       "       0, 0, 0, 0, 0, 0, 0, 0, 0, 0, 0, 0, 0, 0, 0, 0, 0, 0, 0, 0, 0, 0,\n",
       "       0, 0, 0, 0, 0, 0, 0, 0, 0, 0, 0, 0, 0, 0, 0, 0, 0, 0, 0, 0, 0, 0,\n",
       "       0, 0, 0, 0, 0, 0, 0, 0, 0, 0, 0, 0, 0, 0, 0, 0, 0, 0, 0, 0, 0, 0,\n",
       "       0, 0, 0, 0, 0, 0, 0, 0, 0, 0, 0, 0, 1, 1, 1, 1, 1, 1, 1, 1, 1, 1,\n",
       "       1, 1, 1, 1, 1, 1, 1, 1, 1, 1, 1, 1, 1, 1, 1, 1, 1, 1, 1, 1, 1, 1,\n",
       "       1, 1, 1, 1, 1, 1, 1, 1, 1, 1, 1, 1, 1, 1, 1, 1, 1, 1, 1, 1, 1, 1,\n",
       "       1, 1, 1, 1, 1, 1, 1, 1, 1, 1, 1, 1, 1, 1, 1, 1, 1, 1, 1, 1, 1, 1,\n",
       "       1, 1, 1, 1, 1, 1, 1, 1, 1, 1, 1, 1, 1, 1, 1, 1, 1, 1, 1, 1, 1, 1,\n",
       "       1, 1])"
      ]
     },
     "execution_count": 100,
     "metadata": {},
     "output_type": "execute_result"
    }
   ],
   "source": [
    "Y_apples = np.zeros(100,dtype=\"int\")\n",
    "Y_banana = np.ones(100,dtype=\"int\")\n",
    "Y_train = np.concatenate((Y_apples,Y_banana))\n",
    "Y_train"
   ]
  },
  {
   "cell_type": "code",
   "execution_count": 101,
   "metadata": {},
   "outputs": [],
   "source": [
    "def euclide(x1,x2):\n",
    "    return np.sqrt(np.sum(x1-x2)**2)"
   ]
  },
  {
   "cell_type": "code",
   "execution_count": 102,
   "metadata": {},
   "outputs": [
    {
     "data": {
      "text/plain": [
       "3.0"
      ]
     },
     "execution_count": 102,
     "metadata": {},
     "output_type": "execute_result"
    }
   ],
   "source": [
    "mohammad = np.array([10,2])\n",
    "ali = np.array([4,5])\n",
    "\n",
    "euclide(ali,mohammad)"
   ]
  },
  {
   "cell_type": "code",
   "execution_count": 103,
   "metadata": {},
   "outputs": [
    {
     "data": {
      "text/plain": [
       "[1.2715147095563353,\n",
       " 1.1618248892931664,\n",
       " 1.4233622853332246,\n",
       " 1.4904621110757503,\n",
       " 1.6570171804885145,\n",
       " 1.4669817497854618,\n",
       " 2.266233626110057,\n",
       " 0.6069101118182765,\n",
       " 0.5873455659883726,\n",
       " 0.29460027283506474,\n",
       " 0.614463014212248,\n",
       " 3.1282014596418906,\n",
       " 0.5451953155169802,\n",
       " 0.8968646377347449,\n",
       " 0.08347723487132708,\n",
       " 0.5077485746443235,\n",
       " 0.7586307473923863,\n",
       " 0.6978084334717671,\n",
       " 2.7892869406876635,\n",
       " 1.7300551262526174,\n",
       " 1.0358591851947807,\n",
       " 2.262660729614555,\n",
       " 5.124726796802094,\n",
       " 1.1967170977837975,\n",
       " 4.303601143456606,\n",
       " 0.16488050678969746,\n",
       " 1.2735091442089628,\n",
       " 1.031541829663909,\n",
       " 1.5932656801424283,\n",
       " 1.8072911054299627,\n",
       " 0.879558000650805,\n",
       " 1.3388254270442363,\n",
       " 0.6407829442607351,\n",
       " 0.836580072213871,\n",
       " 1.391743485434347,\n",
       " 2.4162501477292126,\n",
       " 0.4860056680336209,\n",
       " 2.413193614778412,\n",
       " 0.11622006427241427,\n",
       " 0.7589794627622126,\n",
       " 0.2926609016013133,\n",
       " 1.6777084029111409,\n",
       " 0.31885709177277644,\n",
       " 0.05204487839995231,\n",
       " 0.4494668913060407,\n",
       " 0.05781882657712156,\n",
       " 0.48823396741951175,\n",
       " 1.6604655085581168,\n",
       " 0.13029606906252944,\n",
       " 0.3429187271947747,\n",
       " 1.2378255369087974,\n",
       " 1.5817784034684514,\n",
       " 0.30642967297261503,\n",
       " 0.041930520820876005,\n",
       " 0.3212738293421449,\n",
       " 0.31004657129132873,\n",
       " 1.7966221994169516,\n",
       " 1.7495774379880817,\n",
       " 1.5470152245829318,\n",
       " 1.8628951882377347,\n",
       " 0.04274091153944415,\n",
       " 0.07169585430118719,\n",
       " 2.176776822414511,\n",
       " 0.3597516917447905,\n",
       " 1.6102525331710762,\n",
       " 0.13214728283991395,\n",
       " 2.6437270546559684,\n",
       " 1.0053757139567594,\n",
       " 0.01551169506980532,\n",
       " 0.4611308682203754,\n",
       " 0.37182034715470635,\n",
       " 0.23623441634024012,\n",
       " 1.7631180126491612,\n",
       " 1.0086420480677223,\n",
       " 0.6317989815923895,\n",
       " 0.47214208131879865,\n",
       " 2.1412534216379626,\n",
       " 1.194397972365901,\n",
       " 0.03656021480131155,\n",
       " 1.4213230060109998,\n",
       " 1.5979117456108023,\n",
       " 0.6424617680337761,\n",
       " 2.185690655151789,\n",
       " 0.5167824774341625,\n",
       " 0.32575743331312523,\n",
       " 6.23619708534827,\n",
       " 0.9287447087676739,\n",
       " 1.107630129480751,\n",
       " 1.0899520551533737,\n",
       " 0.6890101321634363,\n",
       " 2.0478437150209254,\n",
       " 0.18353518390408663,\n",
       " 0.5214955030028472,\n",
       " 0.8085756948851532,\n",
       " 0.04000704169708591,\n",
       " 0.8336214754266091,\n",
       " 0.9266444346600462,\n",
       " 0.3837943104377821,\n",
       " 0.1695696507812503,\n",
       " 2.008088591698673,\n",
       " 0.1556710379672781,\n",
       " 1.363753386813781,\n",
       " 3.2270148576357913,\n",
       " 2.3559333821757873,\n",
       " 0.4397118883590796,\n",
       " 0.5335039310282634,\n",
       " 2.332875823415579,\n",
       " 0.2260755689692342,\n",
       " 0.6166702534667023,\n",
       " 1.7546180864461238,\n",
       " 0.7049657130421259,\n",
       " 3.1610431652296,\n",
       " 0.7478259858921725,\n",
       " 0.17190746451241257,\n",
       " 0.9074437994582807,\n",
       " 0.34616481460525694,\n",
       " 3.2631635271915673,\n",
       " 1.44671091715492,\n",
       " 1.5800362696311558,\n",
       " 1.585694805879744,\n",
       " 0.0709066216908334,\n",
       " 0.0834681024023105,\n",
       " 0.26659429465351003,\n",
       " 0.36967710142148036,\n",
       " 0.14183162210698397,\n",
       " 0.2898761503618079,\n",
       " 0.6572427687020426,\n",
       " 0.42189790761520296,\n",
       " 2.791214066290004,\n",
       " 0.21971474389875212,\n",
       " 0.883852419854561,\n",
       " 0.1308651548265587,\n",
       " 1.0159710868583351,\n",
       " 3.404048815879885,\n",
       " 1.2427490464542261,\n",
       " 0.6182175163151475,\n",
       " 0.5469624724569337,\n",
       " 1.5948461958112103,\n",
       " 1.2464482854115349,\n",
       " 0.41956949154827594,\n",
       " 0.7958092449481775,\n",
       " 4.24357592190304,\n",
       " 1.3755999988028513,\n",
       " 2.1749002016493524,\n",
       " 0.6649487172649788,\n",
       " 0.36441230076111886,\n",
       " 0.07546622160707095,\n",
       " 0.2657694562121744,\n",
       " 3.9803411315430877,\n",
       " 2.1997344513946997,\n",
       " 1.1879685295483142,\n",
       " 2.028252567122033,\n",
       " 0.7787873180439551,\n",
       " 2.350490836563619,\n",
       " 0.8823606730564375,\n",
       " 2.849421093583186,\n",
       " 3.471223979084691,\n",
       " 0.2643787724455464,\n",
       " 2.4804416297118737,\n",
       " 0.8723786541893817,\n",
       " 0.43015202667911634,\n",
       " 1.7542498996620894,\n",
       " 0.4882500004946406,\n",
       " 0.6229732379388042,\n",
       " 0.5710170875629696,\n",
       " 2.565611705473324,\n",
       " 1.0218012465669029,\n",
       " 0.48107253617575374,\n",
       " 0.5624918321335333,\n",
       " 0.7701701916525061,\n",
       " 1.5394265040274515,\n",
       " 0.5258849182862129,\n",
       " 0.2200025896781641,\n",
       " 1.3395146847029835,\n",
       " 2.939429738101137,\n",
       " 2.336806318254535,\n",
       " 0.3295513519365052,\n",
       " 0.061376115833021494,\n",
       " 0.0872881754899586,\n",
       " 1.2003901736765412,\n",
       " 0.2088060053594667,\n",
       " 0.9338614976589801,\n",
       " 1.0261907015878178,\n",
       " 0.23729452440244136,\n",
       " 0.39168534570468516,\n",
       " 2.264460267064071,\n",
       " 4.773857052309266,\n",
       " 3.7579165216438746,\n",
       " 1.5561478513100364,\n",
       " 2.7562464590238527,\n",
       " 1.3523836475660405,\n",
       " 0.7059895217392382,\n",
       " 0.23793904869270666,\n",
       " 2.06470502212475,\n",
       " 0.2030993375119894,\n",
       " 0.4001843396010365,\n",
       " 0.3956696778366391,\n",
       " 0.7467157125897304,\n",
       " 2.1570963666839837,\n",
       " 0.4887685651099858]"
      ]
     },
     "execution_count": 103,
     "metadata": {},
     "output_type": "execute_result"
    }
   ],
   "source": [
    "new_fruit= np.array([3,8.4])\n",
    "disttances= []\n",
    "for x in X_train:\n",
    "    d=euclide(new_fruit,x)\n",
    "    disttances.append(d)\n",
    "disttances"
   ]
  },
  {
   "cell_type": "code",
   "execution_count": 107,
   "metadata": {},
   "outputs": [],
   "source": [
    "k=7"
   ]
  },
  {
   "cell_type": "code",
   "execution_count": 108,
   "metadata": {},
   "outputs": [
    {
     "data": {
      "text/plain": [
       "array([0, 0, 0, 0, 0, 0, 0])"
      ]
     },
     "execution_count": 108,
     "metadata": {},
     "output_type": "execute_result"
    }
   ],
   "source": [
    "nearst_neightbors = np.argsort(disttances)[0:k]\n",
    "Y_train[nearst_neightbors]\n",
    "\n"
   ]
  },
  {
   "cell_type": "code",
   "execution_count": 110,
   "metadata": {},
   "outputs": [
    {
     "name": "stdout",
     "output_type": "stream",
     "text": [
      "apple\n"
     ]
    }
   ],
   "source": [
    "result=np.bincount(Y_train[nearst_neightbors])\n",
    "if np.argmax(result) == 0:\n",
    "    print(\"apple\")\n",
    "else:\n",
    "        print(\"banana\")\n"
   ]
  }
 ],
 "metadata": {
  "interpreter": {
   "hash": "3f896502c6676e9bd799ba227dda5f8f3c0e745dff36a4f34a129a15c6544034"
  },
  "kernelspec": {
   "display_name": "Python 3.10.8 64-bit",
   "language": "python",
   "name": "python3"
  },
  "language_info": {
   "codemirror_mode": {
    "name": "ipython",
    "version": 3
   },
   "file_extension": ".py",
   "mimetype": "text/x-python",
   "name": "python",
   "nbconvert_exporter": "python",
   "pygments_lexer": "ipython3",
   "version": "3.10.8"
  },
  "orig_nbformat": 4
 },
 "nbformat": 4,
 "nbformat_minor": 2
}
